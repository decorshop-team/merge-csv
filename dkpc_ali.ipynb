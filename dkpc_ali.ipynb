{
  "nbformat": 4,
  "nbformat_minor": 0,
  "metadata": {
    "colab": {
      "name": "dkpc_ali.ipynb",
      "provenance": [],
      "collapsed_sections": []
    },
    "kernelspec": {
      "name": "python3",
      "display_name": "Python 3"
    },
    "language_info": {
      "name": "python"
    }
  },
  "cells": [
    {
      "cell_type": "code",
      "metadata": {
        "id": "08i_TD6jM25_"
      },
      "source": [
        "import pandas as pd"
      ],
      "execution_count": 5,
      "outputs": []
    },
    {
      "cell_type": "code",
      "metadata": {
        "id": "SqrV_HQWNTQc"
      },
      "source": [
        "csv_1 = pd.read_csv('data1.csv')\n",
        "csv_2 = pd.read_csv('data2.csv')"
      ],
      "execution_count": 7,
      "outputs": []
    },
    {
      "cell_type": "code",
      "metadata": {
        "id": "vh2guAK4NUbZ"
      },
      "source": [
        "merged = csv_1.merge(csv_2, on='id')\n",
        "merged.to_csv('output.csv', sep=',', header=True, index=False)"
      ],
      "execution_count": 9,
      "outputs": []
    }
  ]
}